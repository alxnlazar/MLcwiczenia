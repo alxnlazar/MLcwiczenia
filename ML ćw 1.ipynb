{
 "cells": [
  {
   "cell_type": "code",
   "execution_count": 1,
   "id": "d47d0b0f",
   "metadata": {},
   "outputs": [],
   "source": [
    "import numpy as np\n",
    "import matplotlib.pyplot as plt"
   ]
  },
  {
   "cell_type": "code",
   "execution_count": 2,
   "id": "84b74949",
   "metadata": {
    "scrolled": true
   },
   "outputs": [
    {
     "name": "stderr",
     "output_type": "stream",
     "text": [
      "C:\\Users\\Acer\\miniconda3\\lib\\site-packages\\sklearn\\utils\\deprecation.py:87: FutureWarning: Function load_boston is deprecated; `load_boston` is deprecated in 1.0 and will be removed in 1.2.\n",
      "\n",
      "    The Boston housing prices dataset has an ethical problem. You can refer to\n",
      "    the documentation of this function for further details.\n",
      "\n",
      "    The scikit-learn maintainers therefore strongly discourage the use of this\n",
      "    dataset unless the purpose of the code is to study and educate about\n",
      "    ethical issues in data science and machine learning.\n",
      "\n",
      "    In this special case, you can fetch the dataset from the original\n",
      "    source::\n",
      "\n",
      "        import pandas as pd\n",
      "        import numpy as np\n",
      "\n",
      "\n",
      "        data_url = \"http://lib.stat.cmu.edu/datasets/boston\"\n",
      "        raw_df = pd.read_csv(data_url, sep=\"\\s+\", skiprows=22, header=None)\n",
      "        data = np.hstack([raw_df.values[::2, :], raw_df.values[1::2, :2]])\n",
      "        target = raw_df.values[1::2, 2]\n",
      "\n",
      "    Alternative datasets include the California housing dataset (i.e.\n",
      "    :func:`~sklearn.datasets.fetch_california_housing`) and the Ames housing\n",
      "    dataset. You can load the datasets as follows::\n",
      "\n",
      "        from sklearn.datasets import fetch_california_housing\n",
      "        housing = fetch_california_housing()\n",
      "\n",
      "    for the California housing dataset and::\n",
      "\n",
      "        from sklearn.datasets import fetch_openml\n",
      "        housing = fetch_openml(name=\"house_prices\", as_frame=True)\n",
      "\n",
      "    for the Ames housing dataset.\n",
      "    \n",
      "  warnings.warn(msg, category=FutureWarning)\n"
     ]
    }
   ],
   "source": [
    "from sklearn.datasets import load_boston\n",
    "boston_data = load_boston()"
   ]
  },
  {
   "cell_type": "code",
   "execution_count": 3,
   "id": "e5e8235b",
   "metadata": {},
   "outputs": [],
   "source": [
    "d = boston_data['data']\n",
    "d2 = d[:, [2,5]]\n",
    "target = boston_data['target']"
   ]
  },
  {
   "cell_type": "markdown",
   "id": "894d934a",
   "metadata": {},
   "source": [
    "ZADANIE 1"
   ]
  },
  {
   "cell_type": "code",
   "execution_count": 4,
   "id": "c83a1e6b",
   "metadata": {},
   "outputs": [],
   "source": [
    "def loss_function(w1, w2, w0, x, t):\n",
    "    N=len(x)\n",
    "    for i in range(x):\n",
    "        w1=(w1*x1)^2/2*N\n",
    "        w2=(w2*x2)^2/2*N\n",
    "        w0=(w0)^2\n",
    "        t=(-t)^2\n",
    "    LF=w1+w2+w0+t\n",
    "    return(LF)"
   ]
  },
  {
   "cell_type": "markdown",
   "id": "ed9756cd",
   "metadata": {},
   "source": [
    "ZADANIE 2"
   ]
  },
  {
   "cell_type": "code",
   "execution_count": 5,
   "id": "556436d6",
   "metadata": {},
   "outputs": [],
   "source": [
    "def update_weigths(w1, w2, w0, x, t, eta):\n",
    "    \n",
    "    N=len(x)\n",
    "    for i in range(x):\n",
    "        w1=(w1*x1)^2/2*N\n",
    "        w2=(w2*x2)^2/2*N\n",
    "        w0=(w0)^2\n",
    "        t=(-t)^2\n",
    "    LF=w1+w2+w0+t\n",
    "    \n",
    "    w1=w1-eta*((x*LF)/x*w)\n",
    "    w2=w2-eta*((x*LF)/x*w)\n",
    "    w0=w0-eta*((x*LF)/x*w)\n",
    "               \n",
    "    N=len(x)\n",
    "    for i in range(x):\n",
    "        w1=((-w1*x1)^2+(8*N*w1*x1))/4*N^2\n",
    "        w2=((-w2*x2)^2+(8*N*w2*x2))/4*N^2\n",
    "        w0=((-w0)^2+8*N*w0)/4*N^2\n",
    "        t=(t^2-t)/4*N^2\n",
    "    UW=w1+w2+w0+t\n",
    "    \n",
    "    return(UW)"
   ]
  },
  {
   "cell_type": "markdown",
   "id": "13058fe2",
   "metadata": {},
   "source": [
    "ZADANIE 3"
   ]
  },
  {
   "cell_type": "code",
   "execution_count": 9,
   "id": "f677639e",
   "metadata": {},
   "outputs": [],
   "source": [
    "import matplotlib.pyplot as plt"
   ]
  },
  {
   "cell_type": "code",
   "execution_count": 10,
   "id": "85538e79",
   "metadata": {},
   "outputs": [
    {
     "ename": "NameError",
     "evalue": "name 'w1' is not defined",
     "output_type": "error",
     "traceback": [
      "\u001b[1;31m---------------------------------------------------------------------------\u001b[0m",
      "\u001b[1;31mNameError\u001b[0m                                 Traceback (most recent call last)",
      "\u001b[1;32m~\\AppData\\Local\\Temp/ipykernel_1152/792045124.py\u001b[0m in \u001b[0;36m<module>\u001b[1;34m\u001b[0m\n\u001b[0;32m      1\u001b[0m \u001b[1;31m#eta=0.001\u001b[0m\u001b[1;33m\u001b[0m\u001b[1;33m\u001b[0m\u001b[1;33m\u001b[0m\u001b[0m\n\u001b[1;32m----> 2\u001b[1;33m \u001b[1;32mwhile\u001b[0m \u001b[0mw1\u001b[0m\u001b[1;33m<\u001b[0m\u001b[1;36m1000\u001b[0m\u001b[1;33m:\u001b[0m\u001b[1;33m\u001b[0m\u001b[1;33m\u001b[0m\u001b[0m\n\u001b[0m\u001b[0;32m      3\u001b[0m     \u001b[0ma\u001b[0m\u001b[1;33m=\u001b[0m \u001b[0mupdate_weigths\u001b[0m\u001b[1;33m(\u001b[0m\u001b[0mw1\u001b[0m\u001b[1;33m,\u001b[0m\u001b[1;36m1\u001b[0m\u001b[1;33m,\u001b[0m\u001b[1;36m1\u001b[0m\u001b[1;33m,\u001b[0m\u001b[0md2\u001b[0m\u001b[1;33m,\u001b[0m\u001b[0mtarget\u001b[0m\u001b[1;33m,\u001b[0m\u001b[1;36m0.001\u001b[0m\u001b[1;33m)\u001b[0m\u001b[1;33m\u001b[0m\u001b[1;33m\u001b[0m\u001b[0m\n\u001b[0;32m      4\u001b[0m     \u001b[0mprint\u001b[0m\u001b[1;33m(\u001b[0m\u001b[0ma\u001b[0m\u001b[1;33m)\u001b[0m\u001b[1;33m\u001b[0m\u001b[1;33m\u001b[0m\u001b[0m\n\u001b[0;32m      5\u001b[0m \u001b[0mpyplot\u001b[0m\u001b[1;33m.\u001b[0m\u001b[0mplot\u001b[0m\u001b[1;33m(\u001b[0m\u001b[0mw1\u001b[0m\u001b[1;33m,\u001b[0m\u001b[0ma\u001b[0m\u001b[1;33m)\u001b[0m\u001b[1;33m\u001b[0m\u001b[1;33m\u001b[0m\u001b[0m\n",
      "\u001b[1;31mNameError\u001b[0m: name 'w1' is not defined"
     ]
    }
   ],
   "source": [
    "#eta=0.001\n",
    "while w1<1000:\n",
    "    a= update_weigths(w1,1,1,d2,target,0.001)\n",
    "    print(a)\n",
    "pyplot.plot(w1,a)\n"
   ]
  },
  {
   "cell_type": "code",
   "execution_count": null,
   "id": "280f529e",
   "metadata": {},
   "outputs": [],
   "source": [
    "#eta=0.01\n",
    "while w1<1000:\n",
    "    a= update_weigths(w1,1,1,d2,target,0.01)\n",
    "    print(a)\n",
    "pyplot.plot(w1,a)\n"
   ]
  },
  {
   "cell_type": "code",
   "execution_count": null,
   "id": "8a0e6164",
   "metadata": {},
   "outputs": [],
   "source": [
    "#eta=0.00001\n",
    "while w1<1000:\n",
    "    a= update_weigths(w1,1,1,d2,target,0.00001)\n",
    "    print(a)\n",
    "pyplot.plot(w1,a)"
   ]
  },
  {
   "cell_type": "markdown",
   "id": "9f068afe",
   "metadata": {},
   "source": [
    "mam chyba błędny kod, ale zakładam, że obserwacja byłaby następująca:spadek wartości funkcji kosztu będzie coraz gwałtowniejszy..."
   ]
  },
  {
   "cell_type": "markdown",
   "id": "b2029eaf",
   "metadata": {},
   "source": [
    "ZADANIE 4"
   ]
  },
  {
   "cell_type": "markdown",
   "id": "2f2b7355",
   "metadata": {},
   "source": [
    "Należałoby zastosować jeden krok a mianowicie pętle while."
   ]
  },
  {
   "cell_type": "markdown",
   "id": "d2ef610d",
   "metadata": {},
   "source": [
    "ZADANIE 5"
   ]
  },
  {
   "cell_type": "markdown",
   "id": "19c00738",
   "metadata": {},
   "source": [
    "Podejrzewam, że może wynikać albo z innych wag, albo z osiągnięcia innego minimum (nie globalnego)."
   ]
  },
  {
   "cell_type": "markdown",
   "id": "cfc1d456",
   "metadata": {},
   "source": [
    "ZADANIE 6"
   ]
  },
  {
   "cell_type": "code",
   "execution_count": 15,
   "id": "c78a344b",
   "metadata": {},
   "outputs": [
    {
     "ename": "SyntaxError",
     "evalue": "invalid syntax (Temp/ipykernel_1152/2745462645.py, line 5)",
     "output_type": "error",
     "traceback": [
      "\u001b[1;36m  File \u001b[1;32m\"C:\\Users\\Acer\\AppData\\Local\\Temp/ipykernel_1152/2745462645.py\"\u001b[1;36m, line \u001b[1;32m5\u001b[0m\n\u001b[1;33m    print(\"treningowy\"+ treningowy \", walidacyjny\" + walidacyjny \",testowy\"+ testowy)\u001b[0m\n\u001b[1;37m                                                 ^\u001b[0m\n\u001b[1;31mSyntaxError\u001b[0m\u001b[1;31m:\u001b[0m invalid syntax\n"
     ]
    }
   ],
   "source": [
    "def rozdzial_danych(d):\n",
    "    treningowy= d*0,4\n",
    "    walidacyjny= d*0,2\n",
    "    testowy= d*0,2\n",
    "    print(\"treningowy\"+ treningowy \", walidacyjny\" + walidacyjny \",testowy\"+ testowy)"
   ]
  },
  {
   "cell_type": "markdown",
   "id": "65b15127",
   "metadata": {},
   "source": [
    "..."
   ]
  }
 ],
 "metadata": {
  "kernelspec": {
   "display_name": "Python 3 (ipykernel)",
   "language": "python",
   "name": "python3"
  },
  "language_info": {
   "codemirror_mode": {
    "name": "ipython",
    "version": 3
   },
   "file_extension": ".py",
   "mimetype": "text/x-python",
   "name": "python",
   "nbconvert_exporter": "python",
   "pygments_lexer": "ipython3",
   "version": "3.7.10"
  }
 },
 "nbformat": 4,
 "nbformat_minor": 5
}
