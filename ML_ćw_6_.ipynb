{
  "nbformat": 4,
  "nbformat_minor": 0,
  "metadata": {
    "colab": {
      "provenance": []
    },
    "kernelspec": {
      "name": "python3",
      "display_name": "Python 3"
    },
    "language_info": {
      "name": "python"
    }
  },
  "cells": [
    {
      "cell_type": "markdown",
      "source": [
        "Zadanie1: Zaimplementuj filtry Sobela a następnie przetestuj na przykładowej fotografii 1D (odcienie szarości).\n"
      ],
      "metadata": {
        "id": "PcYh7RNAreZx"
      }
    },
    {
      "cell_type": "code",
      "source": [
        "import numpy as np\n",
        "import math as m\n",
        "import matplotlib.pyplot as plt   \n",
        "\n",
        "def filtr_sobela(A):\n",
        "  Gx= np.array([[1,0,-1],[2,0,-2],[1,0,-1]])\n",
        "  Gy= np.array([[1,2,1],[0,0,0],[-1,-2,-1]])\n",
        "  s= m.sqrt((np.sum(np.dot(Gx,A)))**2+ (np.sum(np.dot(Gy,A)))**2)\n",
        "  plt.matshow(s, cmap='Greys')\n",
        "  return plt.show()"
      ],
      "metadata": {
        "id": "ewF78MGK1Lyg"
      },
      "execution_count": null,
      "outputs": []
    },
    {
      "cell_type": "markdown",
      "source": [
        "Zadanie2: Uzasadnij, że liczba parametrów warstwy konwolucyjnej wyraża się następującym wzorem."
      ],
      "metadata": {
        "id": "tJbHP--YroI4"
      }
    },
    {
      "cell_type": "markdown",
      "source": [
        "Załóżmy, że filtrem jest macierz 3x3. Liczba kanałów wejściowych zostaje przemnożona przez szerokość i długość filtru, gdzyż filtrujemy mnożąc macierz liczb jaką jest nasz obraz przez macierz filtru, czyli każdy z 9 elementów (3*3) naszego filtru przez każde przesunięcie po macierzy obrazu. W konsekwencji na output wpływa ilość liczb w filtrze (szerokość razy wysokość) i liczba kanałów wejściowych, ponieważ całą procedurę powtarzamy na każdym z kanałów (np. na kolorowym obrazie powtórzymy ją 3 razy; RGB). Na koniec dodaje się liczbę kanałów wyjściowych, ponieważ już obserwujemy ostateczną transformację inputu. Ta zależy od ilości zastosowanych filtrów; przy zero-padding jest taka sama jak wejściowa, przy no-padding jest mniejsza."
      ],
      "metadata": {
        "id": "ghAEheU7_SD9"
      }
    },
    {
      "cell_type": "markdown",
      "source": [
        "Zadanie3: Uzasadnij, że rozmiar wynikowej mapy cech wyraża się następująco."
      ],
      "metadata": {
        "id": "4bJPjWWgrr0y"
      }
    },
    {
      "cell_type": "markdown",
      "source": [
        "Rozpatrujemy osobno wysokość i szerokość. Od wyjściowych parametrów odejmujemy te filtrów (ponieważ w konsekwencji obraz zostaje zmniejszony, idea podobna jak powyżej) dodajac padding, w obu przypadkach tą samą wartość pomnożoną po dwa razy (mamy kwadrat czyli padding jest na 4 krawędziach, 2 na wysokości, 2 na szerokości). Dzielimy przez krok, czyli stride. Dodajemy 1 i ostatecznie otrzymujemy wynikową macierz cech."
      ],
      "metadata": {
        "id": "5v-2TbuiA1dX"
      }
    },
    {
      "cell_type": "markdown",
      "source": [
        "Zadanie4: Napisać funkcje do interpolacji zdjęć na dowolnie zadany wymiar. Przykładowo, mamy zdjecie 4x5, chcemy 10x12. Uwaga: W przypadku wielokrotności rozmiaru jest to stosunkowo proste zadanie.\n"
      ],
      "metadata": {
        "id": "LJFNWOcGr2n-"
      }
    },
    {
      "cell_type": "code",
      "source": [
        "def interpolacja(A,B): #gdzie A to macierz/obraz input, a B to nowy wymiar zapisany np. (2,2)\n",
        "  dimA= A.shape\n",
        "  if dimA < B: #czyli wtedy chcemy zwiększać\n",
        "    C= B-dimA #ile dodać z każdej strony\n",
        "    AA= np.expand_dims(A, C)\n",
        "    return AA \n",
        "  if dimA > B:\n",
        "    C= dimA-B\n",
        "    AA= A.remove(C)\n",
        "    return AA        # taki był pierwotny plan ale teraz widzę, że te funkcje to operacje na elem macierzy a nie wymiarach :(\n",
        "        \n",
        "      #ewentualnie fukcja:\n",
        "      image= A.reshape(B) #czy to mogłoby się sprawdzić?\n",
        "\n",
        "  def interpolacja(A,f,c): #chyba, że interpolacja jako A za zdjęcie, f jako rozmiar filtra, c channels \n",
        "    dimA= A.shape\n",
        "    BB=(dimA[0]-f+1)*(dimA[1]-f+1)*c #pominęłam stride\n",
        "    plt.matshow(BB)\n",
        "    return plt.show()\n",
        "  "
      ],
      "metadata": {
        "id": "dG2lRZA_IWQs"
      },
      "execution_count": null,
      "outputs": []
    }
  ]
}