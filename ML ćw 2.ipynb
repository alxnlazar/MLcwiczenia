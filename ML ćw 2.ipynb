{
 "cells": [
  {
   "cell_type": "markdown",
   "id": "e5b4e4c0",
   "metadata": {},
   "source": [
    "Zadanie1: Zdefiniuj klasę implementującą regresję liniową z regularyzacją L1/L2 dla dowolnej liczby zmiennych."
   ]
  },
  {
   "cell_type": "code",
   "execution_count": 1,
   "id": "7254e913",
   "metadata": {},
   "outputs": [],
   "source": [
    "import numpy as np\n",
    "import matplotlib.pyplot as plt"
   ]
  },
  {
   "cell_type": "code",
   "execution_count": 8,
   "id": "a19daa2f",
   "metadata": {},
   "outputs": [],
   "source": [
    "class Lasso:\n",
    "    def __init__(self, eta = 0.001, diff = 0.001, w1 = 1, w2 = 1, w0 = 1, maxiter = 10000):\n",
    "        self.eta = eta\n",
    "        self.diff = diff\n",
    "        self.w1 = w1\n",
    "        self.w2 = w2\n",
    "        self.w0 = w0\n",
    "        self.maxiter = maxiter\n",
    "        \n",
    "    def loss_function(self, X, t):\n",
    "        N = len(X)\n",
    "        C = 0\n",
    "        for i in range(N):\n",
    "            C += (X[i][0]*self.w1+X[i][1]*self.w2+self.w0-t[i])**2\n",
    "        return C/(2*N)\n",
    "\n",
    "    def train(self, X, t):\n",
    "        l = []\n",
    "        ile = 0\n",
    "        while True:\n",
    "            l.append(self.loss_function(X, t))\n",
    "            self.update_weights(X, t)\n",
    "            ile += 1\n",
    "            if len(l)>2:\n",
    "                if abs(l[-1]-l[-2])/l[-1] <  self.diff or ile > self.maxiter:\n",
    "                    break\n",
    "                    \n",
    "    def L1regulation(self,X,alfa=1.0):\n",
    "        N= len(X)\n",
    "        for i in range(N):\n",
    "            a= abs(w[i])\n",
    "        L1= alfa*a  \n",
    "        return L1\n",
    "    \n",
    "    \n",
    "#### opcjonalnie ####\n",
    "    def LFnew(self,alfa=1.0):\n",
    "        N = len(X)\n",
    "        C = 0\n",
    "        for i in range(N):\n",
    "            C += (X[i][0]*self.w1+X[i][1]*self.w2+self.w0-t[i])**2\n",
    "        LF= C/(2*N)\n",
    "        N= len(X)\n",
    "        for i in range(N):\n",
    "            a= abs(w[i])\n",
    "        L1= alfa*a \n",
    "        LFnew= LF+L1\n",
    "        return LFnew\n",
    "        \n",
    "    \n",
    "##### TO SAMO BYŁOBY Z L2 TYLKO class Ridge #####\n",
    "\n",
    "    def L2regulation(self,X,alfa=1.0):\n",
    "        N= len(X)\n",
    "        for i in range(N):\n",
    "            L2= alfa*(w[i])^2\n",
    "        return L2\n",
    "        "
   ]
  },
  {
   "cell_type": "code",
   "execution_count": 5,
   "id": "99d0bbe2",
   "metadata": {},
   "outputs": [],
   "source": [
    "###zaczerpnęłam w necie inspiracji i znalazłam,że jest lasso w sklearn już####\n",
    "\n",
    "from sklearn.linear_model import Lasso\n"
   ]
  },
  {
   "cell_type": "markdown",
   "id": "4f895ef7",
   "metadata": {},
   "source": [
    "Zadanie 2:Wybierz dowolny zbiór danych lub wygeneruj syntetyczne dane. Zastosuj model regresji liniowej z regularyzacją L1. Na podstawie zbioru walidacyjnego wybierz optymalne parametry eta oraz alfa (rozważ chociaż 15-20 różnych kombinacji)."
   ]
  },
  {
   "cell_type": "code",
   "execution_count": 13,
   "id": "f2cb916c",
   "metadata": {},
   "outputs": [],
   "source": [
    "from sklearn.datasets import load_boston\n",
    "boston_data = load_boston()\n",
    "d = boston_data['data']\n",
    "d2 = d[:, [2,5]]"
   ]
  },
  {
   "cell_type": "code",
   "execution_count": 15,
   "id": "07516ecf",
   "metadata": {},
   "outputs": [
    {
     "ename": "TypeError",
     "evalue": "L1regulation() missing 1 required positional argument: 'X'",
     "output_type": "error",
     "traceback": [
      "\u001b[1;31m---------------------------------------------------------------------------\u001b[0m",
      "\u001b[1;31mTypeError\u001b[0m                                 Traceback (most recent call last)",
      "\u001b[1;32m~\\AppData\\Local\\Temp/ipykernel_4968/1300116495.py\u001b[0m in \u001b[0;36m<module>\u001b[1;34m\u001b[0m\n\u001b[1;32m----> 1\u001b[1;33m \u001b[0mLasso\u001b[0m\u001b[1;33m.\u001b[0m\u001b[0mL1regulation\u001b[0m\u001b[1;33m(\u001b[0m\u001b[0md2\u001b[0m\u001b[1;33m)\u001b[0m\u001b[1;33m\u001b[0m\u001b[1;33m\u001b[0m\u001b[0m\n\u001b[0m",
      "\u001b[1;31mTypeError\u001b[0m: L1regulation() missing 1 required positional argument: 'X'"
     ]
    }
   ],
   "source": [
    "Lasso.L1regulation(d2) ###co jest :(("
   ]
  },
  {
   "cell_type": "code",
   "execution_count": 18,
   "id": "eb59a992",
   "metadata": {},
   "outputs": [],
   "source": [
    "def data_val(data):\n",
    "    val = data[round(0.8*len(data)):]\n",
    "    return val\n"
   ]
  },
  {
   "cell_type": "code",
   "execution_count": 19,
   "id": "d8dd9a02",
   "metadata": {},
   "outputs": [
    {
     "data": {
      "text/plain": [
       "array([[18.1  ,  5.683],\n",
       "       [18.1  ,  4.138],\n",
       "       [18.1  ,  5.608],\n",
       "       [18.1  ,  5.617],\n",
       "       [18.1  ,  6.852],\n",
       "       [18.1  ,  5.757],\n",
       "       [18.1  ,  6.657],\n",
       "       [18.1  ,  4.628],\n",
       "       [18.1  ,  5.155],\n",
       "       [18.1  ,  4.519],\n",
       "       [18.1  ,  6.434],\n",
       "       [18.1  ,  6.782],\n",
       "       [18.1  ,  5.304],\n",
       "       [18.1  ,  5.957],\n",
       "       [18.1  ,  6.824],\n",
       "       [18.1  ,  6.411],\n",
       "       [18.1  ,  6.006],\n",
       "       [18.1  ,  5.648],\n",
       "       [18.1  ,  6.103],\n",
       "       [18.1  ,  5.565],\n",
       "       [18.1  ,  5.896],\n",
       "       [18.1  ,  5.837],\n",
       "       [18.1  ,  6.202],\n",
       "       [18.1  ,  6.193],\n",
       "       [18.1  ,  6.38 ],\n",
       "       [18.1  ,  6.348],\n",
       "       [18.1  ,  6.833],\n",
       "       [18.1  ,  6.425],\n",
       "       [18.1  ,  6.436],\n",
       "       [18.1  ,  6.208],\n",
       "       [18.1  ,  6.629],\n",
       "       [18.1  ,  6.461],\n",
       "       [18.1  ,  6.152],\n",
       "       [18.1  ,  5.935],\n",
       "       [18.1  ,  5.627],\n",
       "       [18.1  ,  5.818],\n",
       "       [18.1  ,  6.406],\n",
       "       [18.1  ,  6.219],\n",
       "       [18.1  ,  6.485],\n",
       "       [18.1  ,  5.854],\n",
       "       [18.1  ,  6.459],\n",
       "       [18.1  ,  6.341],\n",
       "       [18.1  ,  6.251],\n",
       "       [18.1  ,  6.185],\n",
       "       [18.1  ,  6.417],\n",
       "       [18.1  ,  6.749],\n",
       "       [18.1  ,  6.655],\n",
       "       [18.1  ,  6.297],\n",
       "       [18.1  ,  7.393],\n",
       "       [18.1  ,  6.728],\n",
       "       [18.1  ,  6.525],\n",
       "       [18.1  ,  5.976],\n",
       "       [18.1  ,  5.936],\n",
       "       [18.1  ,  6.301],\n",
       "       [18.1  ,  6.081],\n",
       "       [18.1  ,  6.701],\n",
       "       [18.1  ,  6.376],\n",
       "       [18.1  ,  6.317],\n",
       "       [18.1  ,  6.513],\n",
       "       [18.1  ,  6.209],\n",
       "       [18.1  ,  5.759],\n",
       "       [18.1  ,  5.952],\n",
       "       [18.1  ,  6.003],\n",
       "       [18.1  ,  5.926],\n",
       "       [18.1  ,  5.713],\n",
       "       [18.1  ,  6.167],\n",
       "       [18.1  ,  6.229],\n",
       "       [18.1  ,  6.437],\n",
       "       [18.1  ,  6.98 ],\n",
       "       [18.1  ,  5.427],\n",
       "       [18.1  ,  6.162],\n",
       "       [18.1  ,  6.484],\n",
       "       [18.1  ,  5.304],\n",
       "       [18.1  ,  6.185],\n",
       "       [18.1  ,  6.229],\n",
       "       [18.1  ,  6.242],\n",
       "       [18.1  ,  6.75 ],\n",
       "       [18.1  ,  7.061],\n",
       "       [18.1  ,  5.762],\n",
       "       [18.1  ,  5.871],\n",
       "       [18.1  ,  6.312],\n",
       "       [18.1  ,  6.114],\n",
       "       [18.1  ,  5.905],\n",
       "       [27.74 ,  5.454],\n",
       "       [27.74 ,  5.414],\n",
       "       [27.74 ,  5.093],\n",
       "       [27.74 ,  5.983],\n",
       "       [27.74 ,  5.983],\n",
       "       [ 9.69 ,  5.707],\n",
       "       [ 9.69 ,  5.926],\n",
       "       [ 9.69 ,  5.67 ],\n",
       "       [ 9.69 ,  5.39 ],\n",
       "       [ 9.69 ,  5.794],\n",
       "       [ 9.69 ,  6.019],\n",
       "       [ 9.69 ,  5.569],\n",
       "       [ 9.69 ,  6.027],\n",
       "       [11.93 ,  6.593],\n",
       "       [11.93 ,  6.12 ],\n",
       "       [11.93 ,  6.976],\n",
       "       [11.93 ,  6.794],\n",
       "       [11.93 ,  6.03 ]])"
      ]
     },
     "execution_count": 19,
     "metadata": {},
     "output_type": "execute_result"
    }
   ],
   "source": [
    "data_val(d2)"
   ]
  },
  {
   "cell_type": "code",
   "execution_count": 20,
   "id": "4a2e9695",
   "metadata": {},
   "outputs": [],
   "source": [
    "###dalej nie wiem..."
   ]
  },
  {
   "cell_type": "markdown",
   "id": "e2cef965",
   "metadata": {},
   "source": [
    "Zadanie3: Uzasadnij powyższe wartości prawdopodobieństw w oparciu o parametry modelu."
   ]
  },
  {
   "cell_type": "markdown",
   "id": "6a2118af",
   "metadata": {},
   "source": [
    "Coef-> ujemny na ujemną zależność zmiennej i wyniku; znalazłam informację, iż nie jest to idelany parametr do interpretacji, ponieważ jak się doda do modelu więcej zmiennych to może ulec zmianie\n",
    "Intercept-> to średnią wartość zmiennej odpowiedzi, gdy wszystkie predyktory w modelu są równe zero; czyli średni wynik to 0,11, gdzy macierz A i macierz B będą równe zeru"
   ]
  },
  {
   "cell_type": "markdown",
   "id": "94ff7d9d",
   "metadata": {},
   "source": [
    "Zadanie4: Wyznacz powyższe prawdopodobieństwa ręcznie na podstawie parametrów modelu."
   ]
  },
  {
   "cell_type": "code",
   "execution_count": null,
   "id": "e8d4f6dd",
   "metadata": {},
   "outputs": [],
   "source": [
    "##wyszły same głupotki :("
   ]
  },
  {
   "cell_type": "markdown",
   "id": "5debb04c",
   "metadata": {},
   "source": [
    "Zadanie5: Wyjaśnij powyższy wykres? Co oznacza to rozgałęzienie?"
   ]
  },
  {
   "cell_type": "markdown",
   "id": "52b2767c",
   "metadata": {},
   "source": [
    "Wraz ze spadkiem parametru C badane współczynniki zmiejszają się (czyli wraz ze wzstem siły regulacji).\n",
    "Na wykresie widać przypadek overfittingu- model na zbyt dużą wariancję"
   ]
  }
 ],
 "metadata": {
  "kernelspec": {
   "display_name": "Python 3 (ipykernel)",
   "language": "python",
   "name": "python3"
  },
  "language_info": {
   "codemirror_mode": {
    "name": "ipython",
    "version": 3
   },
   "file_extension": ".py",
   "mimetype": "text/x-python",
   "name": "python",
   "nbconvert_exporter": "python",
   "pygments_lexer": "ipython3",
   "version": "3.7.10"
  }
 },
 "nbformat": 4,
 "nbformat_minor": 5
}
